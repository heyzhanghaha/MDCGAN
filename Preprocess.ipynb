{
 "cells": [
  {
   "cell_type": "code",
   "execution_count": null,
   "metadata": {},
   "outputs": [],
   "source": [
    "import pandas as pd\n",
    "import numpy as np\n",
    "import pickle as pkl\n",
    "\n",
    "weather = pd.read_csv('data/weatherData.csv')\n",
    "haha=weather.drop(columns = ['DATE','Precip','SeaLevelPressure']).astype(float)\n",
    "haha.head()"
   ]
  },
  {
   "cell_type": "code",
   "execution_count": null,
   "metadata": {},
   "outputs": [],
   "source": [
    "k=0\n",
    "X = np.array([],dtype=float)\n",
    "for i in range(75083):\n",
    "    if i%24 == 1:\n",
    "        xixi=haha.iloc[i:i+24]\n",
    "        if X.shape[0] == 0:\n",
    "            X = np.array([xixi.values], dtype=float)\n",
    "        else:\n",
    "            X = np.concatenate((X, [xixi.values]))\n",
    "        #X=np.concatenate((X,xixi.values))\n",
    "        k+=1\n",
    "print(k)"
   ]
  },
  {
   "cell_type": "code",
   "execution_count": null,
   "metadata": {},
   "outputs": [],
   "source": [
    "pkl.dump(X, open('data/X_processed.pkl', 'wb'))"
   ]
  }
 ],
 "metadata": {
  "kernelspec": {
   "display_name": "Python 3",
   "language": "python",
   "name": "python3"
  },
  "language_info": {
   "codemirror_mode": {
    "name": "ipython",
    "version": 3
   },
   "file_extension": ".py",
   "mimetype": "text/x-python",
   "name": "python",
   "nbconvert_exporter": "python",
   "pygments_lexer": "ipython3",
   "version": "3.6.12"
  }
 },
 "nbformat": 4,
 "nbformat_minor": 4
}
